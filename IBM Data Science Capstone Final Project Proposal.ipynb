{
 "cells": [
  {
   "cell_type": "markdown",
   "metadata": {},
   "source": [
    "<H1> Should Local Entertainment Industry Should Change Their Focus? </H1>"
   ]
  },
  {
   "cell_type": "markdown",
   "metadata": {},
   "source": [
    "<H2> Problem Overview </H2>"
   ]
  },
  {
   "cell_type": "markdown",
   "metadata": {},
   "source": [
    "<H3> Introduction: </H3>"
   ]
  },
  {
   "cell_type": "markdown",
   "metadata": {},
   "source": [
    "Cary, North Carolina is a town just to the west of the state capital in Raleigh.\n",
    "The mayor of Raleigh, NC recently stated that the available housing in Raleigh does not keep up with the increased demand.  As a resident of Cary, a town just to the west of Raleigh, I have seen a significant increase in real estate values. \n",
    "\n",
    "In addition, this past year many businesses have had to close, either temporarily or permanently, due to the Corona Virus outbreak. \n"
   ]
  },
  {
   "cell_type": "markdown",
   "metadata": {},
   "source": [
    "<H3> Problem: </H3>"
   ]
  },
  {
   "cell_type": "markdown",
   "metadata": {},
   "source": [
    "With the recent economic downturn, and increased housing prices in the city, people with average incomes will have less discretionary income to spend on entertainment and travel.  Because of this, there are two possibilities:\n",
    "\n",
    "•\tPeople will visit local establishments more due to several issues, such as travel restrictions imposed by the required quarantine after travel and restrictions some of the airlines are placing on their passengers.\n",
    "\n",
    "•\tPeople will visit local establishments less due to restrictions such as social distancing and face mask requirements and spend more time at home or at private residences of friends and family.\n",
    "\n",
    "For businesses catering to entertainment and recreation to make forecasting decisions and future of either expanding their current offerings or branching out into new offerings, the question of which of these possibilities is true needs to be determined.\n"
   ]
  },
  {
   "cell_type": "markdown",
   "metadata": {},
   "source": [
    "<H3> Data Requirements: </H3>"
   ]
  },
  {
   "cell_type": "markdown",
   "metadata": {},
   "source": [
    "Collect data from the FourSquare API to pull information on entertainment and recreation venues\n",
    "\n",
    "Collect data on housing and amenities in Raleigh and Cary at https://www.townofcary.org/\n",
    "And https://raleighnc.gov/\n",
    "\n",
    "Collect cost of living and additional information from\n",
    "https://www.payscale.com/cost-of-living-calculator/North-Carolina-Raleigh\n",
    " https://en.wikipedia.org/wiki/Raleigh,_North_Carolina\n",
    " \n",
    "Collect data on average income (increases/decreases) in the same geographic area from the 2020 Census results at https://data.census.gov/\n",
    "\n",
    "Data will either be scraped from these sites as raw data or aggregates and coalesced to determine if original supposition about less discretionary spending is accurate, then correlated with the increase / decrease in business to the local businesses of interest.\n"
   ]
  }
 ],
 "metadata": {
  "kernelspec": {
   "display_name": "Python 3",
   "language": "python",
   "name": "python3"
  },
  "language_info": {
   "codemirror_mode": {
    "name": "ipython",
    "version": 3
   },
   "file_extension": ".py",
   "mimetype": "text/x-python",
   "name": "python",
   "nbconvert_exporter": "python",
   "pygments_lexer": "ipython3",
   "version": "3.8.5"
  }
 },
 "nbformat": 4,
 "nbformat_minor": 4
}
